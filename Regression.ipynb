{
 "cells": [
  {
   "cell_type": "code",
   "execution_count": 1,
   "id": "e430ad09",
   "metadata": {},
   "outputs": [],
   "source": [
    "from pandas import read_csv\n",
    "import warnings\n",
    "warnings.filterwarnings('ignore')"
   ]
  },
  {
   "cell_type": "code",
   "execution_count": 2,
   "id": "aec966a2",
   "metadata": {},
   "outputs": [
    {
     "data": {
      "text/html": [
       "<div>\n",
       "<style scoped>\n",
       "    .dataframe tbody tr th:only-of-type {\n",
       "        vertical-align: middle;\n",
       "    }\n",
       "\n",
       "    .dataframe tbody tr th {\n",
       "        vertical-align: top;\n",
       "    }\n",
       "\n",
       "    .dataframe thead th {\n",
       "        text-align: right;\n",
       "    }\n",
       "</style>\n",
       "<table border=\"1\" class=\"dataframe\">\n",
       "  <thead>\n",
       "    <tr style=\"text-align: right;\">\n",
       "      <th></th>\n",
       "      <th>age</th>\n",
       "      <th>sex</th>\n",
       "      <th>bmi</th>\n",
       "      <th>children</th>\n",
       "      <th>smoker</th>\n",
       "      <th>region</th>\n",
       "      <th>charges</th>\n",
       "    </tr>\n",
       "  </thead>\n",
       "  <tbody>\n",
       "    <tr>\n",
       "      <th>0</th>\n",
       "      <td>19</td>\n",
       "      <td>female</td>\n",
       "      <td>27.900</td>\n",
       "      <td>0</td>\n",
       "      <td>yes</td>\n",
       "      <td>southwest</td>\n",
       "      <td>16884.92400</td>\n",
       "    </tr>\n",
       "    <tr>\n",
       "      <th>1</th>\n",
       "      <td>18</td>\n",
       "      <td>male</td>\n",
       "      <td>33.770</td>\n",
       "      <td>1</td>\n",
       "      <td>no</td>\n",
       "      <td>southeast</td>\n",
       "      <td>1725.55230</td>\n",
       "    </tr>\n",
       "    <tr>\n",
       "      <th>2</th>\n",
       "      <td>28</td>\n",
       "      <td>male</td>\n",
       "      <td>33.000</td>\n",
       "      <td>3</td>\n",
       "      <td>no</td>\n",
       "      <td>southeast</td>\n",
       "      <td>4449.46200</td>\n",
       "    </tr>\n",
       "    <tr>\n",
       "      <th>3</th>\n",
       "      <td>33</td>\n",
       "      <td>male</td>\n",
       "      <td>22.705</td>\n",
       "      <td>0</td>\n",
       "      <td>no</td>\n",
       "      <td>northwest</td>\n",
       "      <td>21984.47061</td>\n",
       "    </tr>\n",
       "    <tr>\n",
       "      <th>4</th>\n",
       "      <td>32</td>\n",
       "      <td>male</td>\n",
       "      <td>28.880</td>\n",
       "      <td>0</td>\n",
       "      <td>no</td>\n",
       "      <td>northwest</td>\n",
       "      <td>3866.85520</td>\n",
       "    </tr>\n",
       "    <tr>\n",
       "      <th>...</th>\n",
       "      <td>...</td>\n",
       "      <td>...</td>\n",
       "      <td>...</td>\n",
       "      <td>...</td>\n",
       "      <td>...</td>\n",
       "      <td>...</td>\n",
       "      <td>...</td>\n",
       "    </tr>\n",
       "    <tr>\n",
       "      <th>1333</th>\n",
       "      <td>50</td>\n",
       "      <td>male</td>\n",
       "      <td>30.970</td>\n",
       "      <td>3</td>\n",
       "      <td>no</td>\n",
       "      <td>northwest</td>\n",
       "      <td>10600.54830</td>\n",
       "    </tr>\n",
       "    <tr>\n",
       "      <th>1334</th>\n",
       "      <td>18</td>\n",
       "      <td>female</td>\n",
       "      <td>31.920</td>\n",
       "      <td>0</td>\n",
       "      <td>no</td>\n",
       "      <td>northeast</td>\n",
       "      <td>2205.98080</td>\n",
       "    </tr>\n",
       "    <tr>\n",
       "      <th>1335</th>\n",
       "      <td>18</td>\n",
       "      <td>female</td>\n",
       "      <td>36.850</td>\n",
       "      <td>0</td>\n",
       "      <td>no</td>\n",
       "      <td>southeast</td>\n",
       "      <td>1629.83350</td>\n",
       "    </tr>\n",
       "    <tr>\n",
       "      <th>1336</th>\n",
       "      <td>21</td>\n",
       "      <td>female</td>\n",
       "      <td>25.800</td>\n",
       "      <td>0</td>\n",
       "      <td>no</td>\n",
       "      <td>southwest</td>\n",
       "      <td>2007.94500</td>\n",
       "    </tr>\n",
       "    <tr>\n",
       "      <th>1337</th>\n",
       "      <td>61</td>\n",
       "      <td>female</td>\n",
       "      <td>29.070</td>\n",
       "      <td>0</td>\n",
       "      <td>yes</td>\n",
       "      <td>northwest</td>\n",
       "      <td>29141.36030</td>\n",
       "    </tr>\n",
       "  </tbody>\n",
       "</table>\n",
       "<p>1338 rows × 7 columns</p>\n",
       "</div>"
      ],
      "text/plain": [
       "      age     sex     bmi  children smoker     region      charges\n",
       "0      19  female  27.900         0    yes  southwest  16884.92400\n",
       "1      18    male  33.770         1     no  southeast   1725.55230\n",
       "2      28    male  33.000         3     no  southeast   4449.46200\n",
       "3      33    male  22.705         0     no  northwest  21984.47061\n",
       "4      32    male  28.880         0     no  northwest   3866.85520\n",
       "...   ...     ...     ...       ...    ...        ...          ...\n",
       "1333   50    male  30.970         3     no  northwest  10600.54830\n",
       "1334   18  female  31.920         0     no  northeast   2205.98080\n",
       "1335   18  female  36.850         0     no  southeast   1629.83350\n",
       "1336   21  female  25.800         0     no  southwest   2007.94500\n",
       "1337   61  female  29.070         0    yes  northwest  29141.36030\n",
       "\n",
       "[1338 rows x 7 columns]"
      ]
     },
     "execution_count": 2,
     "metadata": {},
     "output_type": "execute_result"
    }
   ],
   "source": [
    "data = read_csv('data/insurance.csv')\n",
    "data"
   ]
  },
  {
   "cell_type": "markdown",
   "id": "0a61aedb",
   "metadata": {},
   "source": [
    "## Testing framework\n",
    "\n",
    "The framework is to train a linear and linear with L2 regularisation on a single feature and observe the MAE, RMSE, R2 scores. Then I will repeat this for each feature to determine which one provides a better model based on the statistical tests.\n"
   ]
  },
  {
   "cell_type": "code",
   "execution_count": 3,
   "id": "e4261c06",
   "metadata": {},
   "outputs": [],
   "source": [
    "from sklearn.linear_model import LinearRegression, Ridge\n",
    "from pandas import get_dummies\n",
    "from sklearn.metrics import mean_absolute_error, mean_squared_error, r2_score\n",
    "from math import sqrt"
   ]
  },
  {
   "cell_type": "code",
   "execution_count": 4,
   "id": "10a32c40",
   "metadata": {},
   "outputs": [],
   "source": [
    "def test_feature(x, y):\n",
    "    x = x.values.reshape(-1, 1)\n",
    "    y = y.values.reshape(-1)\n",
    "    models = [('Linear', LinearRegression()), ('L2 linear',Ridge())]\n",
    "    for mx in models:\n",
    "        clf = mx[1]\n",
    "        clf.fit(x, y)\n",
    "        y_ = clf.predict(x)\n",
    "        print(mx[0])\n",
    "        print('MAE: %s' % mean_absolute_error(y, y_))\n",
    "        print('RMSE: %s' %sqrt(mean_squared_error(y, y_)))\n",
    "        print('R2: %s' %r2_score(y, y_))\n",
    "        print()\n",
    "    \n",
    "def test_feature_cat(x, y):\n",
    "    x = get_dummies(x).replace({False:0, True:1}).values\n",
    "    y = y.values.reshape(-1)\n",
    "    models = [('Linear', LinearRegression()), ('L2 linear',Ridge())]\n",
    "    for mx in models:\n",
    "        clf = mx[1]\n",
    "        clf.fit(x, y)\n",
    "        y_ = clf.predict(x)\n",
    "        print(mx[0])\n",
    "        print('MAE: %s' % mean_absolute_error(y, y_))\n",
    "        print('RMSE: %s' %sqrt(mean_squared_error(y, y_)))\n",
    "        print('R2: %s' %r2_score(y, y_))\n",
    "        print()"
   ]
  },
  {
   "cell_type": "markdown",
   "id": "b717b577",
   "metadata": {},
   "source": [
    "## One-way ANOVA test\n",
    "\n",
    "Each value of a categorical feature is a group and the continuous data is the independent variable (charges), the ANOVA test is performed to determine if there is a difference between the means of group formed from a unique categorical feature value based on the means between groups and variance within groups.\n",
    "\n",
    "### H0: there is no difference in the mean between groups for a particular feature\n",
    "### H1: the means are different in the mean between groups for a particular feature\n",
    "\n",
    "Low P-values are strong evidence to reject the null hypothesis, and is an indication that the feature is valuable for model."
   ]
  },
  {
   "cell_type": "code",
   "execution_count": 5,
   "id": "5404ac29",
   "metadata": {},
   "outputs": [],
   "source": [
    "from scipy.stats import f_oneway"
   ]
  },
  {
   "cell_type": "code",
   "execution_count": 6,
   "id": "f4ad67e6",
   "metadata": {
    "scrolled": true
   },
   "outputs": [
    {
     "name": "stdout",
     "output_type": "stream",
     "text": [
      "4.3997016974374565\n",
      "0.03613272100596256\n"
     ]
    }
   ],
   "source": [
    "group_a = data[data['sex']=='male']['charges']\n",
    "group_b = data[data['sex']=='female']['charges']\n",
    "F_stat, p_val = f_oneway(group_a, group_b, axis=0)\n",
    "print(F_stat)\n",
    "print(p_val)"
   ]
  },
  {
   "cell_type": "code",
   "execution_count": 7,
   "id": "8b67f3d2",
   "metadata": {},
   "outputs": [
    {
     "name": "stdout",
     "output_type": "stream",
     "text": [
      "5.8960452705730475\n",
      "0.015430651095692707\n"
     ]
    }
   ],
   "source": [
    "group_a = data[data['region']=='southwest']['charges']\n",
    "group_b = data[data['region']=='southeast']['charges']\n",
    "group_c = data[data['region']=='northwest']['charges']\n",
    "group_d = data[data['region']=='northeast']['charges']\n",
    "F_stat, p_val = f_oneway(group_a, group_b, axis=0)\n",
    "print(F_stat)\n",
    "print(p_val)"
   ]
  },
  {
   "cell_type": "markdown",
   "id": "264af1e3",
   "metadata": {},
   "source": [
    "The p_values show us that region there is a slightly more significant difference between the means between groups for the feature 'region' than 'sex'."
   ]
  },
  {
   "cell_type": "code",
   "execution_count": 8,
   "id": "5db49c10",
   "metadata": {},
   "outputs": [
    {
     "name": "stdout",
     "output_type": "stream",
     "text": [
      "Linear\n",
      "MAE: 9052.126035834242\n",
      "RMSE: 12065.264162780724\n",
      "R2: 0.006634016807031462\n",
      "\n",
      "L2 linear\n",
      "MAE: 9052.151966970734\n",
      "RMSE: 12065.264493787838\n",
      "R2: 0.006633962301600738\n",
      "\n"
     ]
    }
   ],
   "source": [
    "# best feature\n",
    "test_feature_cat(data['region'], data['charges'])"
   ]
  },
  {
   "cell_type": "code",
   "execution_count": 9,
   "id": "45fe2fa1",
   "metadata": {
    "scrolled": true
   },
   "outputs": [
    {
     "name": "stdout",
     "output_type": "stream",
     "text": [
      "Linear\n",
      "MAE: 9108.376246233931\n",
      "RMSE: 12085.932140833916\n",
      "R2: 0.00322780026625491\n",
      "\n",
      "L2 linear\n",
      "MAE: 9088.672317992896\n",
      "RMSE: 12085.60128674103\n",
      "R2: 0.0032823730777093996\n",
      "\n"
     ]
    }
   ],
   "source": [
    "# worst feature\n",
    "test_feature_cat(data['sex'], data['charges'])"
   ]
  },
  {
   "cell_type": "markdown",
   "id": "4650a792",
   "metadata": {},
   "source": [
    "## Results\n",
    "\n",
    "As expected, region is a slightly better performing input for a regression model than sex"
   ]
  },
  {
   "cell_type": "markdown",
   "id": "0c17866f",
   "metadata": {},
   "source": [
    "# Pearson's R on polynomial model"
   ]
  },
  {
   "cell_type": "code",
   "execution_count": 13,
   "id": "0c2c5a6d",
   "metadata": {},
   "outputs": [],
   "source": [
    "from sklearn.feature_selection import r_regression, f_regression\n",
    "from sklearn.preprocessing import PolynomialFeatures"
   ]
  },
  {
   "cell_type": "code",
   "execution_count": 11,
   "id": "41a629bf",
   "metadata": {},
   "outputs": [],
   "source": [
    "poly = PolynomialFeatures(degree=2, interaction_only=False, include_bias=False)\n",
    "x = data[['age', 'bmi','children']]\n",
    "x_poly_deg2 = poly.fit_transform(x)\n",
    "x_poly_features = ['age', 'bmi','children','age^2','age*bmi','age*children','bmi^2','bmi*children','children^2']"
   ]
  },
  {
   "cell_type": "code",
   "execution_count": 14,
   "id": "11f071b7",
   "metadata": {},
   "outputs": [
    {
     "name": "stdout",
     "output_type": "stream",
     "text": [
      "[131.17401258  54.70930805   6.20603705 132.88063348 168.60647718\n",
      "  23.67798385  51.67928279  14.21103762   2.00382014]\n",
      "[4.88669333e-29 2.45908554e-13 1.28521285e-02 2.23481907e-29\n",
      " 2.14730462e-36 1.27416258e-06 1.08396093e-12 1.70537427e-04\n",
      " 1.57136396e-01]\n",
      "('children^2', 0.038699084615013)\n",
      "('children', 0.06799822684790474)\n",
      "('bmi*children', 0.10259166251066097)\n",
      "('age*children', 0.13196365243068287)\n",
      "('bmi^2', 0.19298061523991067)\n",
      "('bmi', 0.19834096883363017)\n",
      "('age', 0.2990081933306476)\n",
      "('age^2', 0.30077213074497)\n",
      "('age*bmi', 0.33475391409782135)\n"
     ]
    }
   ],
   "source": [
    "y = data['charges'].values\n",
    "F_stat, p_val = f_regression(x_poly_deg2, y)\n",
    "pear_r = r_regression(x_poly_deg2, y)\n",
    "print(F_stat)\n",
    "print(p_val)\n",
    "R = []\n",
    "for i in range(len(pear_r)):\n",
    "    R.append((x_poly_features[i], pear_r[i]))\n",
    "R.sort(key=lambda x:x[1])\n",
    "for r in R:\n",
    "    print(r)"
   ]
  },
  {
   "cell_type": "code",
   "execution_count": 15,
   "id": "e29dd092",
   "metadata": {},
   "outputs": [
    {
     "data": {
      "text/html": [
       "<div>\n",
       "<style scoped>\n",
       "    .dataframe tbody tr th:only-of-type {\n",
       "        vertical-align: middle;\n",
       "    }\n",
       "\n",
       "    .dataframe tbody tr th {\n",
       "        vertical-align: top;\n",
       "    }\n",
       "\n",
       "    .dataframe thead th {\n",
       "        text-align: right;\n",
       "    }\n",
       "</style>\n",
       "<table border=\"1\" class=\"dataframe\">\n",
       "  <thead>\n",
       "    <tr style=\"text-align: right;\">\n",
       "      <th></th>\n",
       "      <th>age</th>\n",
       "      <th>bmi</th>\n",
       "      <th>children</th>\n",
       "      <th>age^2</th>\n",
       "      <th>age*bmi</th>\n",
       "      <th>age*children</th>\n",
       "      <th>bmi^2</th>\n",
       "      <th>bmi*children</th>\n",
       "      <th>children^2</th>\n",
       "    </tr>\n",
       "  </thead>\n",
       "  <tbody>\n",
       "    <tr>\n",
       "      <th>0</th>\n",
       "      <td>19.0</td>\n",
       "      <td>27.900</td>\n",
       "      <td>0.0</td>\n",
       "      <td>361.0</td>\n",
       "      <td>530.100</td>\n",
       "      <td>0.0</td>\n",
       "      <td>778.410000</td>\n",
       "      <td>0.00</td>\n",
       "      <td>0.0</td>\n",
       "    </tr>\n",
       "    <tr>\n",
       "      <th>1</th>\n",
       "      <td>18.0</td>\n",
       "      <td>33.770</td>\n",
       "      <td>1.0</td>\n",
       "      <td>324.0</td>\n",
       "      <td>607.860</td>\n",
       "      <td>18.0</td>\n",
       "      <td>1140.412900</td>\n",
       "      <td>33.77</td>\n",
       "      <td>1.0</td>\n",
       "    </tr>\n",
       "    <tr>\n",
       "      <th>2</th>\n",
       "      <td>28.0</td>\n",
       "      <td>33.000</td>\n",
       "      <td>3.0</td>\n",
       "      <td>784.0</td>\n",
       "      <td>924.000</td>\n",
       "      <td>84.0</td>\n",
       "      <td>1089.000000</td>\n",
       "      <td>99.00</td>\n",
       "      <td>9.0</td>\n",
       "    </tr>\n",
       "    <tr>\n",
       "      <th>3</th>\n",
       "      <td>33.0</td>\n",
       "      <td>22.705</td>\n",
       "      <td>0.0</td>\n",
       "      <td>1089.0</td>\n",
       "      <td>749.265</td>\n",
       "      <td>0.0</td>\n",
       "      <td>515.517025</td>\n",
       "      <td>0.00</td>\n",
       "      <td>0.0</td>\n",
       "    </tr>\n",
       "    <tr>\n",
       "      <th>4</th>\n",
       "      <td>32.0</td>\n",
       "      <td>28.880</td>\n",
       "      <td>0.0</td>\n",
       "      <td>1024.0</td>\n",
       "      <td>924.160</td>\n",
       "      <td>0.0</td>\n",
       "      <td>834.054400</td>\n",
       "      <td>0.00</td>\n",
       "      <td>0.0</td>\n",
       "    </tr>\n",
       "    <tr>\n",
       "      <th>...</th>\n",
       "      <td>...</td>\n",
       "      <td>...</td>\n",
       "      <td>...</td>\n",
       "      <td>...</td>\n",
       "      <td>...</td>\n",
       "      <td>...</td>\n",
       "      <td>...</td>\n",
       "      <td>...</td>\n",
       "      <td>...</td>\n",
       "    </tr>\n",
       "    <tr>\n",
       "      <th>1333</th>\n",
       "      <td>50.0</td>\n",
       "      <td>30.970</td>\n",
       "      <td>3.0</td>\n",
       "      <td>2500.0</td>\n",
       "      <td>1548.500</td>\n",
       "      <td>150.0</td>\n",
       "      <td>959.140900</td>\n",
       "      <td>92.91</td>\n",
       "      <td>9.0</td>\n",
       "    </tr>\n",
       "    <tr>\n",
       "      <th>1334</th>\n",
       "      <td>18.0</td>\n",
       "      <td>31.920</td>\n",
       "      <td>0.0</td>\n",
       "      <td>324.0</td>\n",
       "      <td>574.560</td>\n",
       "      <td>0.0</td>\n",
       "      <td>1018.886400</td>\n",
       "      <td>0.00</td>\n",
       "      <td>0.0</td>\n",
       "    </tr>\n",
       "    <tr>\n",
       "      <th>1335</th>\n",
       "      <td>18.0</td>\n",
       "      <td>36.850</td>\n",
       "      <td>0.0</td>\n",
       "      <td>324.0</td>\n",
       "      <td>663.300</td>\n",
       "      <td>0.0</td>\n",
       "      <td>1357.922500</td>\n",
       "      <td>0.00</td>\n",
       "      <td>0.0</td>\n",
       "    </tr>\n",
       "    <tr>\n",
       "      <th>1336</th>\n",
       "      <td>21.0</td>\n",
       "      <td>25.800</td>\n",
       "      <td>0.0</td>\n",
       "      <td>441.0</td>\n",
       "      <td>541.800</td>\n",
       "      <td>0.0</td>\n",
       "      <td>665.640000</td>\n",
       "      <td>0.00</td>\n",
       "      <td>0.0</td>\n",
       "    </tr>\n",
       "    <tr>\n",
       "      <th>1337</th>\n",
       "      <td>61.0</td>\n",
       "      <td>29.070</td>\n",
       "      <td>0.0</td>\n",
       "      <td>3721.0</td>\n",
       "      <td>1773.270</td>\n",
       "      <td>0.0</td>\n",
       "      <td>845.064900</td>\n",
       "      <td>0.00</td>\n",
       "      <td>0.0</td>\n",
       "    </tr>\n",
       "  </tbody>\n",
       "</table>\n",
       "<p>1338 rows × 9 columns</p>\n",
       "</div>"
      ],
      "text/plain": [
       "       age     bmi  children   age^2   age*bmi  age*children        bmi^2  \\\n",
       "0     19.0  27.900       0.0   361.0   530.100           0.0   778.410000   \n",
       "1     18.0  33.770       1.0   324.0   607.860          18.0  1140.412900   \n",
       "2     28.0  33.000       3.0   784.0   924.000          84.0  1089.000000   \n",
       "3     33.0  22.705       0.0  1089.0   749.265           0.0   515.517025   \n",
       "4     32.0  28.880       0.0  1024.0   924.160           0.0   834.054400   \n",
       "...    ...     ...       ...     ...       ...           ...          ...   \n",
       "1333  50.0  30.970       3.0  2500.0  1548.500         150.0   959.140900   \n",
       "1334  18.0  31.920       0.0   324.0   574.560           0.0  1018.886400   \n",
       "1335  18.0  36.850       0.0   324.0   663.300           0.0  1357.922500   \n",
       "1336  21.0  25.800       0.0   441.0   541.800           0.0   665.640000   \n",
       "1337  61.0  29.070       0.0  3721.0  1773.270           0.0   845.064900   \n",
       "\n",
       "      bmi*children  children^2  \n",
       "0             0.00         0.0  \n",
       "1            33.77         1.0  \n",
       "2            99.00         9.0  \n",
       "3             0.00         0.0  \n",
       "4             0.00         0.0  \n",
       "...            ...         ...  \n",
       "1333         92.91         9.0  \n",
       "1334          0.00         0.0  \n",
       "1335          0.00         0.0  \n",
       "1336          0.00         0.0  \n",
       "1337          0.00         0.0  \n",
       "\n",
       "[1338 rows x 9 columns]"
      ]
     },
     "execution_count": 15,
     "metadata": {},
     "output_type": "execute_result"
    }
   ],
   "source": [
    "from pandas import DataFrame\n",
    "data_poly = DataFrame(data=x_poly_deg2, columns=x_poly_features)\n",
    "data_poly"
   ]
  },
  {
   "cell_type": "code",
   "execution_count": 20,
   "id": "4ed0e94b",
   "metadata": {
    "scrolled": false
   },
   "outputs": [
    {
     "name": "stdout",
     "output_type": "stream",
     "text": [
      "Linear\n",
      "MAE: 9046.935685510143\n",
      "RMSE: 11407.066111073244\n",
      "R2: 0.1120601830038147\n",
      "\n",
      "L2 linear\n",
      "MAE: 9046.935685322564\n",
      "RMSE: 11407.066111073244\n",
      "R2: 0.1120601830038147\n",
      "\n"
     ]
    }
   ],
   "source": [
    "test_feature(data_poly['age*bmi'], data['charges'])"
   ]
  },
  {
   "cell_type": "code",
   "execution_count": 17,
   "id": "f1c27e20",
   "metadata": {
    "scrolled": true
   },
   "outputs": [
    {
     "name": "stdout",
     "output_type": "stream",
     "text": [
      "Linear\n",
      "MAE: 9097.505408669633\n",
      "RMSE: 12077.466128266162\n",
      "R2: 0.004623758854459203\n",
      "\n",
      "L2 linear\n",
      "MAE: 9097.488724670367\n",
      "RMSE: 12077.466135689268\n",
      "R2: 0.004623757630894176\n",
      "\n"
     ]
    }
   ],
   "source": [
    "test_feature(data_poly['children'], data['charges'])"
   ]
  },
  {
   "cell_type": "markdown",
   "id": "01ca3988",
   "metadata": {},
   "source": [
    "## Results\n",
    "\n",
    "There is little modelling performance difference between the best and worst features as selected by Peason's R scores, even when using polynomial features. The order of the performance is correct, there are limitations to using Pearson's R for feature selection, perhaps other correlation scores such as spearman will perform better."
   ]
  }
 ],
 "metadata": {
  "kernelspec": {
   "display_name": "Python 3 (ipykernel)",
   "language": "python",
   "name": "python3"
  },
  "language_info": {
   "codemirror_mode": {
    "name": "ipython",
    "version": 3
   },
   "file_extension": ".py",
   "mimetype": "text/x-python",
   "name": "python",
   "nbconvert_exporter": "python",
   "pygments_lexer": "ipython3",
   "version": "3.10.9"
  }
 },
 "nbformat": 4,
 "nbformat_minor": 5
}
